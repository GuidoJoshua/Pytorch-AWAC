{
 "cells": [
  {
   "cell_type": "code",
   "execution_count": 1,
   "metadata": {},
   "outputs": [],
   "source": [
    "import gym\n",
    "import torch\n",
    "\n",
    "from src.Learner.AWAC import AWAC\n",
    "from src.Learner.DQN import DQN\n",
    "from src.Learner.Random import DiscreteRandomAgent\n",
    "from src.nn.MLP import MLP\n",
    "from src.utils.memory import ReplayMemory\n",
    "from src.utils.train_utils import prepare_training_inputs\n",
    "\n",
    "import matplotlib.pyplot as plt"
   ]
  },
  {
   "cell_type": "code",
   "execution_count": 2,
   "metadata": {},
   "outputs": [],
   "source": [
    "gamma = 0.9\n",
    "memory_size = 500000"
   ]
  },
  {
   "cell_type": "code",
   "execution_count": 3,
   "metadata": {},
   "outputs": [],
   "source": [
    "qnet = MLP(4, 2, \n",
    "           num_neurons=[128,128], \n",
    "           out_act='ReLU')\n",
    "qnet_target = MLP(4, 2, \n",
    "                  num_neurons=[128,128], \n",
    "                  out_act='ReLU')\n",
    "pi = MLP(4, 2, num_neurons=[128,64])\n",
    "use_adv = True\n",
    "\n",
    "agent = AWAC(critic=qnet, \n",
    "             critic_target=qnet_target,\n",
    "             actor=pi, \n",
    "             gamma=gamma, \n",
    "             lam=1.0, \n",
    "             num_action_samples=10,\n",
    "             use_adv=use_adv)"
   ]
  },
  {
   "cell_type": "code",
   "execution_count": 4,
   "metadata": {},
   "outputs": [
    {
     "name": "stderr",
     "output_type": "stream",
     "text": [
      "C:\\Users\\joon0\\Anaconda3\\envs\\gpu_torch130\\lib\\site-packages\\gym\\logger.py:30: UserWarning: \u001b[33mWARN: Box bound precision lowered by casting to float32\u001b[0m\n",
      "  warnings.warn(colorize('%s: %s'%('WARN', msg % args), 'yellow'))\n"
     ]
    }
   ],
   "source": [
    "env = gym.make('CartPole-v1')\n",
    "memory = ReplayMemory(memory_size)"
   ]
  },
  {
   "cell_type": "markdown",
   "metadata": {},
   "source": [
    "## Prepare offline data"
   ]
  },
  {
   "cell_type": "code",
   "execution_count": 6,
   "metadata": {},
   "outputs": [],
   "source": [
    "use_expert = True\n",
    "if use_expert:    \n",
    "    qnet = MLP(4, 2, num_neurons=[128])\n",
    "    qnet_target = MLP(4, 2, num_neurons=[128])\n",
    "    dqn = DQN(4, 1, qnet=qnet, qnet_target=qnet_target, lr=1e-4, gamma=gamma, epsilon=1.0)\n",
    "    state_dict = torch.load('dqn_agent.pt')\n",
    "    \n",
    "    # make trained agent slightly dumb\n",
    "    # to simulate the realistic scenario where we don't have 'perfect' policy\n",
    "    # but good enough policy.\n",
    "    \n",
    "    state_dict['epsilon'] = dqn.epsilon * .4 \n",
    "    dqn.load_state_dict(state_dict)    \n",
    "    offline_agent = dqn\n",
    "    offline_budget = 50\n",
    "else:\n",
    "    offline_agent = DiscreteRandomAgent(2)\n",
    "    offline_budget = 300\n",
    "\n",
    "online_budget = offline_budget"
   ]
  },
  {
   "cell_type": "code",
   "execution_count": 7,
   "metadata": {},
   "outputs": [],
   "source": [
    "cum_rs = []\n",
    "for n_epi in range(offline_budget):\n",
    "    s = env.reset()\n",
    "    cum_r = 0\n",
    "\n",
    "    while True:\n",
    "        s = torch.tensor((s,), dtype=torch.float)\n",
    "        a = offline_agent.get_action(s)\n",
    "        ns, r, done, info = env.step(a)\n",
    "\n",
    "        experience = (s,\n",
    "                      torch.tensor(a).view(1, 1),\n",
    "                      torch.tensor(r).view(1, 1),\n",
    "                      torch.tensor(ns).view(1, 4),\n",
    "                      torch.tensor(done).view(1, 1))\n",
    "        memory.push(experience)\n",
    "\n",
    "        s = ns\n",
    "        cum_r += 1\n",
    "        if done:\n",
    "            cum_rs.append(cum_r)\n",
    "            break"
   ]
  },
  {
   "cell_type": "code",
   "execution_count": 8,
   "metadata": {},
   "outputs": [
    {
     "data": {
      "text/plain": [
       "(array([0.01578947, 0.00614035, 0.00789474, 0.00438596, 0.00526316,\n",
       "        0.00087719, 0.00175439, 0.        , 0.00087719, 0.00087719]),\n",
       " array([ 10. ,  32.8,  55.6,  78.4, 101.2, 124. , 146.8, 169.6, 192.4,\n",
       "        215.2, 238. ]),\n",
       " <a list of 10 Patch objects>)"
      ]
     },
     "execution_count": 8,
     "metadata": {},
     "output_type": "execute_result"
    },
    {
     "data": {
      "image/png": "[encoded data removed]",
      "text/plain": [
       "<Figure size 432x288 with 1 Axes>"
      ]
     },
     "metadata": {
      "needs_background": "light"
     },
     "output_type": "display_data"
    }
   ],
   "source": [
    "plt.hist(cum_rs, density=True, label='expert')"
   ]
  },
  {
   "cell_type": "markdown",
   "metadata": {},
   "source": [
    "## offline training"
   ]
  },
  {
   "cell_type": "code",
   "execution_count": 9,
   "metadata": {},
   "outputs": [
    {
     "name": "stdout",
     "output_type": "stream",
     "text": [
      "fitting [0] / [8000]\n",
      "fitting [1000] / [8000]\n",
      "fitting [2000] / [8000]\n",
      "fitting [3000] / [8000]\n",
      "fitting [4000] / [8000]\n",
      "fitting [5000] / [8000]\n",
      "fitting [6000] / [8000]\n",
      "fitting [7000] / [8000]\n"
     ]
    },
    {
     "data": {
      "text/plain": [
       "AWAC(\n",
       "  (critic): MLP(\n",
       "    (hidden_act): ReLU()\n",
       "    (out_act): ReLU()\n",
       "    (layers): ModuleList(\n",
       "      (0): Linear(in_features=4, out_features=128, bias=True)\n",
       "      (1): ReLU()\n",
       "      (2): Linear(in_features=128, out_features=128, bias=True)\n",
       "      (3): ReLU()\n",
       "      (4): Linear(in_features=128, out_features=2, bias=True)\n",
       "      (5): ReLU()\n",
       "    )\n",
       "  )\n",
       "  (critic_target): MLP(\n",
       "    (hidden_act): ReLU()\n",
       "    (out_act): ReLU()\n",
       "    (layers): ModuleList(\n",
       "      (0): Linear(in_features=4, out_features=128, bias=True)\n",
       "      (1): ReLU()\n",
       "      (2): Linear(in_features=128, out_features=128, bias=True)\n",
       "      (3): ReLU()\n",
       "      (4): Linear(in_features=128, out_features=2, bias=True)\n",
       "      (5): ReLU()\n",
       "    )\n",
       "  )\n",
       "  (actor): MLP(\n",
       "    (hidden_act): ReLU()\n",
       "    (out_act): Identity()\n",
       "    (layers): ModuleList(\n",
       "      (0): Linear(in_features=4, out_features=128, bias=True)\n",
       "      (1): ReLU()\n",
       "      (2): Linear(in_features=128, out_features=64, bias=True)\n",
       "      (3): ReLU()\n",
       "      (4): Linear(in_features=64, out_features=2, bias=True)\n",
       "      (5): Identity()\n",
       "    )\n",
       "  )\n",
       ")"
      ]
     },
     "execution_count": 9,
     "metadata": {},
     "output_type": "execute_result"
    }
   ],
   "source": [
    "batch_size = 1024\n",
    "n_updates = 8000\n",
    "fit_device = 'cuda' if torch.cuda.is_available() else 'cpu'\n",
    "\n",
    "agent.to(fit_device)\n",
    "critic_losses, actor_losses = [], []\n",
    "for i in range(n_updates):\n",
    "    if i % 1000 == 0:\n",
    "        print(\"fitting [{}] / [{}]\".format(i, n_updates))\n",
    "    sampled_exps = memory.sample(batch_size)\n",
    "    s, a, r, ns, done = prepare_training_inputs(sampled_exps, \n",
    "                                                device=fit_device)    \n",
    "    critic_loss = agent.update_critic(s,a,r,ns,done)\n",
    "    actor_loss = agent.update_actor(s,a)\n",
    "    critic_losses.append(critic_loss.detach())\n",
    "    actor_losses.append(actor_loss.detach())        \n",
    "agent.to('cpu')"
   ]
  },
  {
   "cell_type": "code",
   "execution_count": 10,
   "metadata": {},
   "outputs": [
    {
     "data": {
      "image/png": "[encoded data removed]",
      "text/plain": [
       "<Figure size 432x216 with 2 Axes>"
      ]
     },
     "metadata": {
      "needs_background": "light"
     },
     "output_type": "display_data"
    }
   ],
   "source": [
    "fig, axes = plt.subplots(1,2, figsize=(6,3))\n",
    "axes[0].plot(actor_losses, label='actor loss')\n",
    "axes[0].legend()\n",
    "axes[1].plot(critic_losses, label='critic loss')\n",
    "axes[1].legend()\n",
    "fig.tight_layout()"
   ]
  },
  {
   "cell_type": "markdown",
   "metadata": {},
   "source": [
    "## check offline perf"
   ]
  },
  {
   "cell_type": "code",
   "execution_count": 12,
   "metadata": {},
   "outputs": [],
   "source": [
    "awac_cum_rs = []\n",
    "for n_epi in range(num_runs):\n",
    "    s = env.reset()\n",
    "    cum_r = 0\n",
    "\n",
    "    while True:\n",
    "        s = torch.tensor((s,), dtype=torch.float)\n",
    "        a = int(agent.get_action(s).squeeze())\n",
    "        ns, r, done, info = env.step(a)\n",
    "\n",
    "        s = ns\n",
    "        cum_r += 1\n",
    "        if done:\n",
    "            awac_cum_rs.append(cum_r)\n",
    "            break"
   ]
  },
  {
   "cell_type": "code",
   "execution_count": 13,
   "metadata": {},
   "outputs": [
    {
     "data": {
      "text/plain": [
       "<matplotlib.legend.Legend at 0x1e85bde5508>"
      ]
     },
     "execution_count": 13,
     "metadata": {},
     "output_type": "execute_result"
    },
    {
     "data": {
      "image/png": "[encoded data removed]",
      "text/plain": [
       "<Figure size 432x288 with 1 Axes>"
      ]
     },
     "metadata": {
      "needs_background": "light"
     },
     "output_type": "display_data"
    }
   ],
   "source": [
    "plt.hist(cum_rs, density=True, label='expert')\n",
    "plt.hist(awac_cum_rs, \n",
    "         alpha=0.5, \n",
    "         density=True, label='offline')\n",
    "plt.legend()"
   ]
  },
  {
   "cell_type": "markdown",
   "metadata": {},
   "source": [
    "## Online fine tuning"
   ]
  },
  {
   "cell_type": "code",
   "execution_count": 14,
   "metadata": {},
   "outputs": [
    {
     "data": {
      "text/plain": [
       "AWAC(\n",
       "  (critic): MLP(\n",
       "    (hidden_act): ReLU()\n",
       "    (out_act): ReLU()\n",
       "    (layers): ModuleList(\n",
       "      (0): Linear(in_features=4, out_features=128, bias=True)\n",
       "      (1): ReLU()\n",
       "      (2): Linear(in_features=128, out_features=128, bias=True)\n",
       "      (3): ReLU()\n",
       "      (4): Linear(in_features=128, out_features=2, bias=True)\n",
       "      (5): ReLU()\n",
       "    )\n",
       "  )\n",
       "  (critic_target): MLP(\n",
       "    (hidden_act): ReLU()\n",
       "    (out_act): ReLU()\n",
       "    (layers): ModuleList(\n",
       "      (0): Linear(in_features=4, out_features=128, bias=True)\n",
       "      (1): ReLU()\n",
       "      (2): Linear(in_features=128, out_features=128, bias=True)\n",
       "      (3): ReLU()\n",
       "      (4): Linear(in_features=128, out_features=2, bias=True)\n",
       "      (5): ReLU()\n",
       "    )\n",
       "  )\n",
       "  (actor): MLP(\n",
       "    (hidden_act): ReLU()\n",
       "    (out_act): Identity()\n",
       "    (layers): ModuleList(\n",
       "      (0): Linear(in_features=4, out_features=128, bias=True)\n",
       "      (1): ReLU()\n",
       "      (2): Linear(in_features=128, out_features=64, bias=True)\n",
       "      (3): ReLU()\n",
       "      (4): Linear(in_features=64, out_features=2, bias=True)\n",
       "      (5): Identity()\n",
       "    )\n",
       "  )\n",
       ")"
      ]
     },
     "execution_count": 14,
     "metadata": {},
     "output_type": "execute_result"
    }
   ],
   "source": [
    "agent.to('cpu')"
   ]
  },
  {
   "cell_type": "code",
   "execution_count": 15,
   "metadata": {},
   "outputs": [],
   "source": [
    "refresh_memory = False\n",
    "if refresh_memory:\n",
    "    memory.reset()"
   ]
  },
  {
   "cell_type": "code",
   "execution_count": 16,
   "metadata": {},
   "outputs": [],
   "source": [
    "online_budget = 600\n",
    "online_awac_cum_rs = []\n",
    "for n_epi in range(online_budget):\n",
    "    s = env.reset()\n",
    "    cum_r = 0\n",
    "\n",
    "    while True:\n",
    "        s = torch.tensor((s,), dtype=torch.float)\n",
    "        a = int(agent.get_action(s).squeeze())\n",
    "        ns, r, done, info = env.step(a)\n",
    "        \n",
    "        experience = (s,\n",
    "                      torch.tensor(a).view(1, 1),\n",
    "                      torch.tensor(r).view(1, 1),\n",
    "                      torch.tensor(ns).view(1, 4),\n",
    "                      torch.tensor(done).view(1, 1))\n",
    "        memory.push(experience)\n",
    "        \n",
    "        s = ns\n",
    "        cum_r += 1\n",
    "        if done:\n",
    "            online_awac_cum_rs.append(cum_r)\n",
    "            break\n",
    "    \n",
    "    if len(memory) >= batch_size:\n",
    "        sampled_exps = memory.sample(batch_size)\n",
    "        _s, _a, _r, _ns, _done = prepare_training_inputs(sampled_exps, device=fit_device)\n",
    "        agent.to(fit_device)\n",
    "        critic_loss = agent.update_critic(_s,_a,_r,_ns,_done)\n",
    "        actor_loss = agent.update_actor(_s,_a)\n",
    "        critic_losses.append(critic_loss.detach())\n",
    "        actor_losses.append(actor_loss.detach())\n",
    "        agent.to('cpu')"
   ]
  },
  {
   "cell_type": "code",
   "execution_count": 17,
   "metadata": {},
   "outputs": [
    {
     "data": {
      "text/plain": [
       "[<matplotlib.lines.Line2D at 0x1e85b26ddc8>]"
      ]
     },
     "execution_count": 17,
     "metadata": {},
     "output_type": "execute_result"
    },
    {
     "data": {
      "image/png": "[encoded data removed]",
      "text/plain": [
       "<Figure size 432x288 with 1 Axes>"
      ]
     },
     "metadata": {
      "needs_background": "light"
     },
     "output_type": "display_data"
    }
   ],
   "source": [
    "plt.plot(range(len(awac_cum_rs)), awac_cum_rs)\n",
    "plt.plot(range(len(awac_cum_rs), \n",
    "               len(awac_cum_rs + online_awac_cum_rs)), \n",
    "         online_awac_cum_rs)"
   ]
  },
  {
   "cell_type": "code",
   "execution_count": 18,
   "metadata": {},
   "outputs": [
    {
     "data": {
      "text/plain": [
       "<matplotlib.legend.Legend at 0x1e85b341208>"
      ]
     },
     "execution_count": 18,
     "metadata": {},
     "output_type": "execute_result"
    },
    {
     "data": {
      "image/png": "[encoded data removed]",
      "text/plain": [
       "<Figure size 432x288 with 1 Axes>"
      ]
     },
     "metadata": {
      "needs_background": "light"
     },
     "output_type": "display_data"
    }
   ],
   "source": [
    "plt.hist(cum_rs, density=True, label='expert')\n",
    "plt.hist(awac_cum_rs, alpha=0.5, density=True, label='offline')\n",
    "plt.hist(online_awac_cum_rs, alpha=0.5, density=True, label='online-finetuning')\n",
    "plt.legend()"
   ]
  }
 ],
 "metadata": {
  "kernelspec": {
   "display_name": "Python 3",
   "language": "python",
   "name": "python3"
  },
  "language_info": {
   "codemirror_mode": {
    "name": "ipython",
    "version": 3
   },
   "file_extension": ".py",
   "mimetype": "text/x-python",
   "name": "python",
   "nbconvert_exporter": "python",
   "pygments_lexer": "ipython3",
   "version": "3.7.4"
  }
 },
 "nbformat": 4,
 "nbformat_minor": 4
}
